{
 "cells": [
  {
   "cell_type": "code",
   "execution_count": 1,
   "metadata": {},
   "outputs": [
    {
     "name": "stdout",
     "output_type": "stream",
     "text": [
      " * Serving Flask app '__main__'\n",
      " * Debug mode: on\n"
     ]
    },
    {
     "name": "stderr",
     "output_type": "stream",
     "text": [
      "WARNING: This is a development server. Do not use it in a production deployment. Use a production WSGI server instead.\n",
      " * Running on http://127.0.0.1:5000\n",
      "Press CTRL+C to quit\n",
      " * Restarting with stat\n"
     ]
    },
    {
     "ename": "SystemExit",
     "evalue": "1",
     "output_type": "error",
     "traceback": [
      "An exception has occurred, use %tb to see the full traceback.\n",
      "\u001b[1;31mSystemExit\u001b[0m\u001b[1;31m:\u001b[0m 1\n"
     ]
    },
    {
     "name": "stderr",
     "output_type": "stream",
     "text": [
      "C:\\Users\\shrey\\AppData\\Roaming\\Python\\Python311\\site-packages\\IPython\\core\\interactiveshell.py:3534: UserWarning: To exit: use 'exit', 'quit', or Ctrl-D.\n",
      "  warn(\"To exit: use 'exit', 'quit', or Ctrl-D.\", stacklevel=1)\n"
     ]
    }
   ],
   "source": [
    "from flask import Flask, request, jsonify\n",
    "import docker\n",
    "\n",
    "app = Flask(__name__)\n",
    "client = docker.from_env()\n",
    "\n",
    "@app.route('/containers')\n",
    "def get_containers():\n",
    "    containers = client.containers.list()\n",
    "    container_data = []\n",
    "    for container in containers:\n",
    "        container_data.append({\n",
    "            'id': container.id,\n",
    "            'name': container.name,\n",
    "            'status': container.status,\n",
    "            'image': container.image.tags[0] if container.image.tags else None,\n",
    "            'cpu_usage': container.stats(stream=False)['cpu_stats']['cpu_usage']['total_usage'] / 10000000,\n",
    "            'memory_usage': container.stats(stream=False)['memory_stats']['usage'] / 1000000\n",
    "        })\n",
    "    return jsonify(container_data)\n",
    "\n",
    "@app.route('/containers/<container_id>/<action>', methods=['POST'])\n",
    "def container_action(container_id, action):\n",
    "    container = client.containers.get(container_id)\n",
    "    if action == 'start':\n",
    "        container.start()\n",
    "    elif action == 'stop':\n",
    "        container.stop()\n",
    "    elif action == 'restart':\n",
    "        container.restart()\n",
    "    elif action == 'run':\n",
    "        # Code to run a new container, you may need additional parameters\n",
    "        pass\n",
    "    return jsonify({'message': f'Performed {action} action on container {container_id}'})\n",
    "\n",
    "if __name__ == '__main__':\n",
    "    app.run(debug=True)\n"
   ]
  }
 ],
 "metadata": {
  "kernelspec": {
   "display_name": "Python 3",
   "language": "python",
   "name": "python3"
  },
  "language_info": {
   "codemirror_mode": {
    "name": "ipython",
    "version": 3
   },
   "file_extension": ".py",
   "mimetype": "text/x-python",
   "name": "python",
   "nbconvert_exporter": "python",
   "pygments_lexer": "ipython3",
   "version": "3.11.4"
  }
 },
 "nbformat": 4,
 "nbformat_minor": 2
}
